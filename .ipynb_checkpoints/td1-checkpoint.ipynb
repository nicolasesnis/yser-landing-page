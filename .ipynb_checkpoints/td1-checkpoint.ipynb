{
 "cells": [
  {
   "cell_type": "code",
   "execution_count": 2,
   "metadata": {
    "collapsed": true
   },
   "outputs": [],
   "source": [
    "import numpy as np\n",
    "import matplotlib.pyplot as plt\n",
    "%matplotlib inline\n",
    "from scipy.stats import multivariate_normal"
   ]
  },
  {
   "cell_type": "code",
   "execution_count": 5,
   "metadata": {
    "collapsed": true
   },
   "outputs": [],
   "source": [
    "def covariance(sigma1=1., sigma2=1., theta=0.):\n",
    "    \"\"\"\n",
    "        Covariance matrix with eigenvalues sigma1 and sigma2, rotated by the angle theta.\n",
    "    \"\"\"\n",
    "    rotation = np.array([[np.cos(theta), -np.sin(theta)],\n",
    "                        [np.sin(theta), np.cos(theta)]])\n",
    "    cov = np.array([[sigma1, 0.],\n",
    "                   [0, sigma2]])\n",
    "    return rotation.dot(cov.dot(rotation.T))"
   ]
  },
  {
   "cell_type": "code",
   "execution_count": 7,
   "metadata": {},
   "outputs": [
    {
     "name": "stdout",
     "output_type": "stream",
     "text": [
      "Mean: [-0.02279616 -0.02131995]\n",
      "Covariance: [[  0.95275219   0.12278069]\n",
      " [  0.12278069  10.42312424]]\n"
     ]
    }
   ],
   "source": [
    "from scipy.stats import multivariate_normal\n",
    "\n",
    "def gaussian_sample(mu=[0, 0], sigma1=1., sigma2=1., theta=0., n=50):\n",
    "    cov = covariance(sigma1, sigma2, theta)\n",
    "    x = multivariate_normal.rvs(mean=mu, cov=cov, size=n)\n",
    "    return x\n",
    "\n",
    "X = gaussian_sample(sigma1=1, sigma2=10, n=500)\n",
    "\n",
    "print(\"Mean:\", X.mean(axis=0))\n",
    "print(\"Covariance:\", np.cov(X.T))\n"
   ]
  },
  {
   "cell_type": "code",
   "execution_count": 85,
   "metadata": {},
   "outputs": [
    {
     "data": {
      "image/png": "[encoded data removed]",
      "text/plain": [
       "<matplotlib.figure.Figure at 0x1a0fa08160>"
      ]
     },
     "metadata": {},
     "output_type": "display_data"
    }
   ],
   "source": [
    "def plotXY(X, Y):\n",
    "    if X.shape == Y.shape:\n",
    "        X1 = X\n",
    "        X2 = Y\n",
    "    else:\n",
    "        X1 = X[Y == Y.max()]\n",
    "        X2 = X[Y == Y.min()]\n",
    "    plt.plot(X1[:, 0], X1[:, 1], \">\", label=\"Class 1\")\n",
    "    plt.plot(X2[:, 0], X2[:, 1], \"d\", label=\"Class 2\")\n",
    "    plt.axis('equal')\n",
    "    \n",
    "X1 = gaussian_sample(mu=[0, 0])\n",
    "X2 = gaussian_sample(mu=[5, 3])\n",
    "\n",
    "plotXY(X1, X2)\n",
    "plt.legend(loc=\"best\");"
   ]
  },
  {
   "cell_type": "code",
   "execution_count": null,
   "metadata": {
    "collapsed": true
   },
   "outputs": [],
   "source": []
  },
  {
   "cell_type": "code",
   "execution_count": 87,
   "metadata": {
    "collapsed": true
   },
   "outputs": [],
   "source": [
    "from sklearn.base import BaseEstimator\n",
    "from sklearn.discriminant_analysis import LinearClassifierMixin\n",
    "class LDA(BaseEstimator, LinearClassifierMixin):\n",
    "    \"\"\"\n",
    "        LDA classifier for two classes.\n",
    "    \"\"\"\n",
    "    def __init__(self, prior=None):\n",
    "        \"\"\"\n",
    "            prior: wether to use prior in the intercept. Default is false.\n",
    "        \"\"\"\n",
    "        self.prior = prior\n",
    "        \n",
    "    def fit(self, X, y):\n",
    "        cov = np.cov(X.T, bias=2)  # Covariance matrix\n",
    "        invcov = np.linalg.inv(cov)  # Inverse covariance matrix\n",
    "        mu1 = X[y==y.max(), :].mean(axis=0)\n",
    "        mu2 = X[y==y.min(), :].mean(axis=0)\n",
    "        if not self.prior:\n",
    "            pi1, pi2 = 0.5, 0.5\n",
    "        else:\n",
    "            pi1, pi2 = np.mean(y == y.max()), np.mean(y == y.min())\n",
    "        self.coef_ = invcov.dot(mu1-mu2)\n",
    "        self.intercept_ = 0.5*(mu2.dot(invcov.dot(mu2)) - mu1.dot(invcov.dot(mu1))) + \\\n",
    "            np.log(pi1/pi2)\n",
    "        return self\n",
    "\n",
    "    def decision_function(self, X):\n",
    "        return X.dot(self.coef_) + self.intercept_\n",
    "\n",
    "    def predict(self, X):\n",
    "        return (self.decision_function(X) > 0)*2 - 1"
   ]
  },
  {
   "cell_type": "code",
   "execution_count": null,
   "metadata": {
    "collapsed": true
   },
   "outputs": [],
   "source": []
  }
 ],
 "metadata": {
  "kernelspec": {
   "display_name": "Python 3",
   "language": "python",
   "name": "python3"
  },
  "language_info": {
   "codemirror_mode": {
    "name": "ipython",
    "version": 3
   },
   "file_extension": ".py",
   "mimetype": "text/x-python",
   "name": "python",
   "nbconvert_exporter": "python",
   "pygments_lexer": "ipython3",
   "version": "3.6.3"
  }
 },
 "nbformat": 4,
 "nbformat_minor": 2
}
