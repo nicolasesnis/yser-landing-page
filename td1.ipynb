{
 "cells": [
  {
   "cell_type": "code",
   "execution_count": 4,
   "metadata": {
    "collapsed": true
   },
   "outputs": [],
   "source": [
    "import numpy as np\n",
    "import matplotlib.pyplot as plt\n",
    "%matplotlib inline\n",
    "from scipy.stats import multivariate_normal"
   ]
  },
  {
   "cell_type": "code",
   "execution_count": 5,
   "metadata": {
    "collapsed": true
   },
   "outputs": [],
   "source": [
    "def covariance(sigma1=1., sigma2=1., theta=0.):\n",
    "    \"\"\"\n",
    "        Covariance matrix with eigenvalues sigma1 and sigma2, rotated by the angle theta.\n",
    "    \"\"\"\n",
    "    rotation = np.array([[np.cos(theta), -np.sin(theta)],\n",
    "                        [np.sin(theta), np.cos(theta)]])\n",
    "    cov = np.array([[sigma1, 0.],\n",
    "                   [0, sigma2]])\n",
    "    return rotation.dot(cov.dot(rotation.T))"
   ]
  },
  {
   "cell_type": "code",
   "execution_count": 6,
   "metadata": {},
   "outputs": [
    {
     "name": "stdout",
     "output_type": "stream",
     "text": [
      "Mean: [ 0.06506267 -0.12256407]\n",
      "Covariance: [[  9.83594420e-01   7.33916365e-03]\n",
      " [  7.33916365e-03   1.08405470e+01]]\n"
     ]
    }
   ],
   "source": [
    "from scipy.stats import multivariate_normal\n",
    "\n",
    "def gaussian_sample(mu=[0, 0], sigma1=1., sigma2=1., theta=0., n=50):\n",
    "    cov = covariance(sigma1, sigma2, theta)\n",
    "    x = multivariate_normal.rvs(mean=mu, cov=cov, size=n)\n",
    "    return x\n",
    "\n",
    "X = gaussian_sample(sigma1=1, sigma2=10, n=500)\n",
    "\n",
    "print(\"Mean:\", X.mean(axis=0))\n",
    "print(\"Covariance:\", np.cov(X.T))\n",
    "\n"
   ]
  },
  {
   "cell_type": "code",
   "execution_count": 13,
   "metadata": {},
   "outputs": [
    {
     "data": {
      "image/png": "[encoded data removed]",
      "text/plain": [
       "<matplotlib.figure.Figure at 0x1a19495c88>"
      ]
     },
     "metadata": {},
     "output_type": "display_data"
    }
   ],
   "source": [
    "def plotXY(X, Y):\n",
    "    if X.shape == Y.shape:\n",
    "        X1 = X\n",
    "        X2 = Y\n",
    "    else:\n",
    "        X1 = X[Y == Y.max()]\n",
    "        X2 = X[Y == Y.min()]\n",
    "    plt.plot(X1[:, 0], X1[:, 1], \">\", label=\"Class 1\")\n",
    "    plt.plot(X2[:, 0], X2[:, 1], \"d\", label=\"Class 2\")\n",
    "    plt.axis('equal')\n",
    "\n",
    "    \n",
    "X1 = gaussian_sample(mu=[0, 0])\n",
    "X2 = gaussian_sample(mu=[5, 3])\n",
    "\n",
    "\n",
    "plotXY(X1, X2)\n",
    "plt.legend(loc=\"best\");"
   ]
  },
  {
   "cell_type": "code",
   "execution_count": null,
   "metadata": {
    "collapsed": true
   },
   "outputs": [],
   "source": []
  },
  {
   "cell_type": "code",
   "execution_count": 14,
   "metadata": {
    "collapsed": true
   },
   "outputs": [],
   "source": [
    "from sklearn.base import BaseEstimator\n",
    "from sklearn.discriminant_analysis import LinearClassifierMixin\n",
    "class LDA(BaseEstimator, LinearClassifierMixin):\n",
    "    \"\"\"\n",
    "        LDA classifier for two classes.\n",
    "    \"\"\"\n",
    "    def __init__(self, prior=None):\n",
    "        \"\"\"\n",
    "            prior: wether to use prior in the intercept. Default is false.\n",
    "        \"\"\"\n",
    "        self.prior = prior\n",
    "        \n",
    "    def fit(self, X, y):\n",
    "        cov = np.cov(X.T, bias=2)  # Covariance matrix\n",
    "        invcov = np.linalg.inv(cov)  # Inverse covariance matrix\n",
    "        mu1 = X[y==y.max(), :].mean(axis=0)\n",
    "        mu2 = X[y==y.min(), :].mean(axis=0)\n",
    "        if not self.prior:\n",
    "            pi1, pi2 = 0.5, 0.5\n",
    "        else:\n",
    "            pi1, pi2 = np.mean(y == y.max()), np.mean(y == y.min())\n",
    "        self.coef_ = invcov.dot(mu1-mu2)\n",
    "        self.intercept_ = 0.5*(mu2.dot(invcov.dot(mu2)) - mu1.dot(invcov.dot(mu1))) + \\\n",
    "            np.log(pi1/pi2)\n",
    "        return self\n",
    "\n",
    "    def decision_function(self, X):\n",
    "        return X.dot(self.coef_) + self.intercept_\n",
    "\n",
    "    def predict(self, X):\n",
    "        return (self.decision_function(X) > 0)*2 - 1"
   ]
  },
  {
   "cell_type": "code",
   "execution_count": 48,
   "metadata": {
    "collapsed": true
   },
   "outputs": [],
   "source": [
    "def plot_frontiere(clf, data=None, num=200, label=None):\n",
    "    \"\"\"\n",
    "        Plot the frontiere f(x)=0 of the classifier clf within the same range as the one\n",
    "        of the data.\n",
    "        Input:\n",
    "            clf: binary classifier with a method decision_function\n",
    "            data: input data (X)\n",
    "            num: discretization parameter\n",
    "    \"\"\"\n",
    "    xmin, ymin = data.min(axis=0)\n",
    "    xmax, ymax = data.max(axis=0)\n",
    "    x, y = np.meshgrid(np.linspace(xmin, xmax, num), np.linspace(ymin, ymax))\n",
    "    z = np.fabs(clf.decision_function(np.c_[x.ravel(), y.ravel()])).reshape(x.shape)\n",
    "    zmin, zmax = z.min(), z.max()\n",
    "    ind = np.where((z-zmin)/(zmax-zmin) < 0.001)\n",
    "    plt.plot(x[ind], y[ind], label=label)"
   ]
  },
  {
   "cell_type": "code",
   "execution_count": 59,
   "metadata": {
    "scrolled": false
   },
   "outputs": [
    {
     "name": "stdout",
     "output_type": "stream",
     "text": [
      "LDA parameters:\n",
      "[-0.8189399  -0.57387929] 2.81541943955\n"
     ]
    },
    {
     "data": {
      "text/plain": [
       "<matplotlib.legend.Legend at 0x119416fd0>"
      ]
     },
     "execution_count": 59,
     "metadata": {},
     "output_type": "execute_result"
    },
    {
     "data": {
      "image/png": "[encoded data removed]",
      "text/plain": [
       "<matplotlib.figure.Figure at 0x1a1d37f278>"
      ]
     },
     "metadata": {},
     "output_type": "display_data"
    }
   ],
   "source": [
    "X = np.r_[X1, X2]\n",
    "Y = np.r_[np.ones(X1.shape[0]), -np.ones(X2.shape[0])]\n",
    "\n",
    "lda = LDA()\n",
    "lda.fit(X, Y)\n",
    "print(\"LDA parameters:\")\n",
    "print(lda.coef_ / np.linalg.norm(lda.coef_), lda.intercept_ / np.linalg.norm(lda.coef_))\n",
    "\n",
    "plotXY(X, Y)\n",
    "plot_frontiere(lda, X)\n",
    "plt.legend(loc=\"best\")"
   ]
  },
  {
   "cell_type": "markdown",
   "metadata": {},
   "source": []
  }
 ],
 "metadata": {
  "kernelspec": {
   "display_name": "Python 3",
   "language": "python",
   "name": "python3"
  },
  "language_info": {
   "codemirror_mode": {
    "name": "ipython",
    "version": 3
   },
   "file_extension": ".py",
   "mimetype": "text/x-python",
   "name": "python",
   "nbconvert_exporter": "python",
   "pygments_lexer": "ipython3",
   "version": "3.6.3"
  }
 },
 "nbformat": 4,
 "nbformat_minor": 2
}
